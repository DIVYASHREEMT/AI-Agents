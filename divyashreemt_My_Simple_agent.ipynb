{
  "nbformat": 4,
  "nbformat_minor": 0,
  "metadata": {
    "colab": {
      "provenance": []
    },
    "kernelspec": {
      "name": "python3",
      "display_name": "Python 3"
    },
    "language_info": {
      "name": "python"
    },
    "widgets": {
      "application/vnd.jupyter.widget-state+json": {
        "855ca3c21dfb49a2842f35a0df943140": {
          "model_module": "@jupyter-widgets/controls",
          "model_name": "VBoxModel",
          "model_module_version": "1.5.0",
          "state": {
            "_dom_classes": [],
            "_model_module": "@jupyter-widgets/controls",
            "_model_module_version": "1.5.0",
            "_model_name": "VBoxModel",
            "_view_count": null,
            "_view_module": "@jupyter-widgets/controls",
            "_view_module_version": "1.5.0",
            "_view_name": "VBoxView",
            "box_style": "",
            "children": [
              "IPY_MODEL_0a7a2763b07747659bab48564535d835",
              "IPY_MODEL_c71606068be642a188a4b63d7a4be99b",
              "IPY_MODEL_22c69d9543744793b600d7e21937127c",
              "IPY_MODEL_743e937bd90548d8b2225fb8dc6c9776",
              "IPY_MODEL_e6ca7bf2c68542c9923679b43824cb82",
              "IPY_MODEL_f9f5f86e9bba45efb01f5a58a6c458fc",
              "IPY_MODEL_7a2c7a92dd9145689adec82193c1cdc3"
            ],
            "layout": "IPY_MODEL_90a4f4aa50fc44e7901407466b40f69a"
          }
        },
        "0a7a2763b07747659bab48564535d835": {
          "model_module": "@jupyter-widgets/controls",
          "model_name": "HTMLModel",
          "model_module_version": "1.5.0",
          "state": {
            "_dom_classes": [],
            "_model_module": "@jupyter-widgets/controls",
            "_model_module_version": "1.5.0",
            "_model_name": "HTMLModel",
            "_view_count": null,
            "_view_module": "@jupyter-widgets/controls",
            "_view_module_version": "1.5.0",
            "_view_name": "HTMLView",
            "description": "",
            "description_tooltip": null,
            "layout": "IPY_MODEL_162966cfc5c2437d84cfc10b1c66edd7",
            "placeholder": "​",
            "style": "IPY_MODEL_e2dd5f7daabb4cb0b38c822ebba47efc",
            "value": "<h3>📝 Tweet Generator Agent</h3>"
          }
        },
        "c71606068be642a188a4b63d7a4be99b": {
          "model_module": "@jupyter-widgets/controls",
          "model_name": "TextModel",
          "model_module_version": "1.5.0",
          "state": {
            "_dom_classes": [],
            "_model_module": "@jupyter-widgets/controls",
            "_model_module_version": "1.5.0",
            "_model_name": "TextModel",
            "_view_count": null,
            "_view_module": "@jupyter-widgets/controls",
            "_view_module_version": "1.5.0",
            "_view_name": "TextView",
            "continuous_update": true,
            "description": "Topic",
            "description_tooltip": null,
            "disabled": false,
            "layout": "IPY_MODEL_0d32dd5fa9c44f9ba462cec8d5e9301d",
            "placeholder": "​",
            "style": "IPY_MODEL_e96e033f2e2a42f1a85f3051165d0ea5",
            "value": "AI masterclass today On IBMSkillsbuild"
          }
        },
        "22c69d9543744793b600d7e21937127c": {
          "model_module": "@jupyter-widgets/controls",
          "model_name": "DropdownModel",
          "model_module_version": "1.5.0",
          "state": {
            "_dom_classes": [],
            "_model_module": "@jupyter-widgets/controls",
            "_model_module_version": "1.5.0",
            "_model_name": "DropdownModel",
            "_options_labels": [
              "Professional",
              "Casual",
              "Motivational",
              "Informative"
            ],
            "_view_count": null,
            "_view_module": "@jupyter-widgets/controls",
            "_view_module_version": "1.5.0",
            "_view_name": "DropdownView",
            "description": "Tone",
            "description_tooltip": null,
            "disabled": false,
            "index": 0,
            "layout": "IPY_MODEL_7fe0c3652b734131b1a8049416dfb574",
            "style": "IPY_MODEL_eb61996b60934b26b9a006081fe11d72"
          }
        },
        "743e937bd90548d8b2225fb8dc6c9776": {
          "model_module": "@jupyter-widgets/controls",
          "model_name": "TextModel",
          "model_module_version": "1.5.0",
          "state": {
            "_dom_classes": [],
            "_model_module": "@jupyter-widgets/controls",
            "_model_module_version": "1.5.0",
            "_model_name": "TextModel",
            "_view_count": null,
            "_view_module": "@jupyter-widgets/controls",
            "_view_module_version": "1.5.0",
            "_view_name": "TextView",
            "continuous_update": true,
            "description": "Audience",
            "description_tooltip": null,
            "disabled": false,
            "layout": "IPY_MODEL_2c9d24a59b66470d880be35bc01f297a",
            "placeholder": "​",
            "style": "IPY_MODEL_8cf3fcd5e7ba467ba434828e97b6a264",
            "value": "Student"
          }
        },
        "e6ca7bf2c68542c9923679b43824cb82": {
          "model_module": "@jupyter-widgets/controls",
          "model_name": "TextModel",
          "model_module_version": "1.5.0",
          "state": {
            "_dom_classes": [],
            "_model_module": "@jupyter-widgets/controls",
            "_model_module_version": "1.5.0",
            "_model_name": "TextModel",
            "_view_count": null,
            "_view_module": "@jupyter-widgets/controls",
            "_view_module_version": "1.5.0",
            "_view_name": "TextView",
            "continuous_update": true,
            "description": "Hashtags",
            "description_tooltip": null,
            "disabled": false,
            "layout": "IPY_MODEL_c3f33cd489494ec98d758595e097be7b",
            "placeholder": "​",
            "style": "IPY_MODEL_47c74d68f5ec485fb23ec9afbab8547f",
            "value": "#IBM"
          }
        },
        "f9f5f86e9bba45efb01f5a58a6c458fc": {
          "model_module": "@jupyter-widgets/controls",
          "model_name": "ButtonModel",
          "model_module_version": "1.5.0",
          "state": {
            "_dom_classes": [],
            "_model_module": "@jupyter-widgets/controls",
            "_model_module_version": "1.5.0",
            "_model_name": "ButtonModel",
            "_view_count": null,
            "_view_module": "@jupyter-widgets/controls",
            "_view_module_version": "1.5.0",
            "_view_name": "ButtonView",
            "button_style": "success",
            "description": "Generate Tweet",
            "disabled": false,
            "icon": "",
            "layout": "IPY_MODEL_5f4c392ad31c4df1bd7e0abd923a9747",
            "style": "IPY_MODEL_e784fb93017b4af18f8f867257526d6a",
            "tooltip": "click to generate tweet"
          }
        },
        "7a2c7a92dd9145689adec82193c1cdc3": {
          "model_module": "@jupyter-widgets/output",
          "model_name": "OutputModel",
          "model_module_version": "1.0.0",
          "state": {
            "_dom_classes": [],
            "_model_module": "@jupyter-widgets/output",
            "_model_module_version": "1.0.0",
            "_model_name": "OutputModel",
            "_view_count": null,
            "_view_module": "@jupyter-widgets/output",
            "_view_module_version": "1.0.0",
            "_view_name": "OutputView",
            "layout": "IPY_MODEL_49c54dc4a8a94fb09f1b26b618307779",
            "msg_id": "",
            "outputs": [
              {
                "output_type": "display_data",
                "data": {
                  "text/plain": "<IPython.core.display.Markdown object>",
                  "text/markdown": "### Generated Tweet: \n\n Attention students! Elevate your future skills. Join us for today's essential AI Masterclass on IBMSkillsbuild. Discover the power of Artificial Intelligence and gain insights crucial for your career journey. Don't miss out! #IBM"
                },
                "metadata": {}
              }
            ]
          }
        },
        "90a4f4aa50fc44e7901407466b40f69a": {
          "model_module": "@jupyter-widgets/base",
          "model_name": "LayoutModel",
          "model_module_version": "1.2.0",
          "state": {
            "_model_module": "@jupyter-widgets/base",
            "_model_module_version": "1.2.0",
            "_model_name": "LayoutModel",
            "_view_count": null,
            "_view_module": "@jupyter-widgets/base",
            "_view_module_version": "1.2.0",
            "_view_name": "LayoutView",
            "align_content": null,
            "align_items": null,
            "align_self": null,
            "border": null,
            "bottom": null,
            "display": null,
            "flex": null,
            "flex_flow": null,
            "grid_area": null,
            "grid_auto_columns": null,
            "grid_auto_flow": null,
            "grid_auto_rows": null,
            "grid_column": null,
            "grid_gap": null,
            "grid_row": null,
            "grid_template_areas": null,
            "grid_template_columns": null,
            "grid_template_rows": null,
            "height": null,
            "justify_content": null,
            "justify_items": null,
            "left": null,
            "margin": null,
            "max_height": null,
            "max_width": null,
            "min_height": null,
            "min_width": null,
            "object_fit": null,
            "object_position": null,
            "order": null,
            "overflow": null,
            "overflow_x": null,
            "overflow_y": null,
            "padding": null,
            "right": null,
            "top": null,
            "visibility": null,
            "width": null
          }
        },
        "162966cfc5c2437d84cfc10b1c66edd7": {
          "model_module": "@jupyter-widgets/base",
          "model_name": "LayoutModel",
          "model_module_version": "1.2.0",
          "state": {
            "_model_module": "@jupyter-widgets/base",
            "_model_module_version": "1.2.0",
            "_model_name": "LayoutModel",
            "_view_count": null,
            "_view_module": "@jupyter-widgets/base",
            "_view_module_version": "1.2.0",
            "_view_name": "LayoutView",
            "align_content": null,
            "align_items": null,
            "align_self": null,
            "border": null,
            "bottom": null,
            "display": null,
            "flex": null,
            "flex_flow": null,
            "grid_area": null,
            "grid_auto_columns": null,
            "grid_auto_flow": null,
            "grid_auto_rows": null,
            "grid_column": null,
            "grid_gap": null,
            "grid_row": null,
            "grid_template_areas": null,
            "grid_template_columns": null,
            "grid_template_rows": null,
            "height": null,
            "justify_content": null,
            "justify_items": null,
            "left": null,
            "margin": null,
            "max_height": null,
            "max_width": null,
            "min_height": null,
            "min_width": null,
            "object_fit": null,
            "object_position": null,
            "order": null,
            "overflow": null,
            "overflow_x": null,
            "overflow_y": null,
            "padding": null,
            "right": null,
            "top": null,
            "visibility": null,
            "width": null
          }
        },
        "e2dd5f7daabb4cb0b38c822ebba47efc": {
          "model_module": "@jupyter-widgets/controls",
          "model_name": "DescriptionStyleModel",
          "model_module_version": "1.5.0",
          "state": {
            "_model_module": "@jupyter-widgets/controls",
            "_model_module_version": "1.5.0",
            "_model_name": "DescriptionStyleModel",
            "_view_count": null,
            "_view_module": "@jupyter-widgets/base",
            "_view_module_version": "1.2.0",
            "_view_name": "StyleView",
            "description_width": ""
          }
        },
        "0d32dd5fa9c44f9ba462cec8d5e9301d": {
          "model_module": "@jupyter-widgets/base",
          "model_name": "LayoutModel",
          "model_module_version": "1.2.0",
          "state": {
            "_model_module": "@jupyter-widgets/base",
            "_model_module_version": "1.2.0",
            "_model_name": "LayoutModel",
            "_view_count": null,
            "_view_module": "@jupyter-widgets/base",
            "_view_module_version": "1.2.0",
            "_view_name": "LayoutView",
            "align_content": null,
            "align_items": null,
            "align_self": null,
            "border": null,
            "bottom": null,
            "display": null,
            "flex": null,
            "flex_flow": null,
            "grid_area": null,
            "grid_auto_columns": null,
            "grid_auto_flow": null,
            "grid_auto_rows": null,
            "grid_column": null,
            "grid_gap": null,
            "grid_row": null,
            "grid_template_areas": null,
            "grid_template_columns": null,
            "grid_template_rows": null,
            "height": null,
            "justify_content": null,
            "justify_items": null,
            "left": null,
            "margin": null,
            "max_height": null,
            "max_width": null,
            "min_height": null,
            "min_width": null,
            "object_fit": null,
            "object_position": null,
            "order": null,
            "overflow": null,
            "overflow_x": null,
            "overflow_y": null,
            "padding": null,
            "right": null,
            "top": null,
            "visibility": null,
            "width": "400px"
          }
        },
        "e96e033f2e2a42f1a85f3051165d0ea5": {
          "model_module": "@jupyter-widgets/controls",
          "model_name": "DescriptionStyleModel",
          "model_module_version": "1.5.0",
          "state": {
            "_model_module": "@jupyter-widgets/controls",
            "_model_module_version": "1.5.0",
            "_model_name": "DescriptionStyleModel",
            "_view_count": null,
            "_view_module": "@jupyter-widgets/base",
            "_view_module_version": "1.2.0",
            "_view_name": "StyleView",
            "description_width": ""
          }
        },
        "7fe0c3652b734131b1a8049416dfb574": {
          "model_module": "@jupyter-widgets/base",
          "model_name": "LayoutModel",
          "model_module_version": "1.2.0",
          "state": {
            "_model_module": "@jupyter-widgets/base",
            "_model_module_version": "1.2.0",
            "_model_name": "LayoutModel",
            "_view_count": null,
            "_view_module": "@jupyter-widgets/base",
            "_view_module_version": "1.2.0",
            "_view_name": "LayoutView",
            "align_content": null,
            "align_items": null,
            "align_self": null,
            "border": null,
            "bottom": null,
            "display": null,
            "flex": null,
            "flex_flow": null,
            "grid_area": null,
            "grid_auto_columns": null,
            "grid_auto_flow": null,
            "grid_auto_rows": null,
            "grid_column": null,
            "grid_gap": null,
            "grid_row": null,
            "grid_template_areas": null,
            "grid_template_columns": null,
            "grid_template_rows": null,
            "height": null,
            "justify_content": null,
            "justify_items": null,
            "left": null,
            "margin": null,
            "max_height": null,
            "max_width": null,
            "min_height": null,
            "min_width": null,
            "object_fit": null,
            "object_position": null,
            "order": null,
            "overflow": null,
            "overflow_x": null,
            "overflow_y": null,
            "padding": null,
            "right": null,
            "top": null,
            "visibility": null,
            "width": "400px"
          }
        },
        "eb61996b60934b26b9a006081fe11d72": {
          "model_module": "@jupyter-widgets/controls",
          "model_name": "DescriptionStyleModel",
          "model_module_version": "1.5.0",
          "state": {
            "_model_module": "@jupyter-widgets/controls",
            "_model_module_version": "1.5.0",
            "_model_name": "DescriptionStyleModel",
            "_view_count": null,
            "_view_module": "@jupyter-widgets/base",
            "_view_module_version": "1.2.0",
            "_view_name": "StyleView",
            "description_width": ""
          }
        },
        "2c9d24a59b66470d880be35bc01f297a": {
          "model_module": "@jupyter-widgets/base",
          "model_name": "LayoutModel",
          "model_module_version": "1.2.0",
          "state": {
            "_model_module": "@jupyter-widgets/base",
            "_model_module_version": "1.2.0",
            "_model_name": "LayoutModel",
            "_view_count": null,
            "_view_module": "@jupyter-widgets/base",
            "_view_module_version": "1.2.0",
            "_view_name": "LayoutView",
            "align_content": null,
            "align_items": null,
            "align_self": null,
            "border": null,
            "bottom": null,
            "display": null,
            "flex": null,
            "flex_flow": null,
            "grid_area": null,
            "grid_auto_columns": null,
            "grid_auto_flow": null,
            "grid_auto_rows": null,
            "grid_column": null,
            "grid_gap": null,
            "grid_row": null,
            "grid_template_areas": null,
            "grid_template_columns": null,
            "grid_template_rows": null,
            "height": null,
            "justify_content": null,
            "justify_items": null,
            "left": null,
            "margin": null,
            "max_height": null,
            "max_width": null,
            "min_height": null,
            "min_width": null,
            "object_fit": null,
            "object_position": null,
            "order": null,
            "overflow": null,
            "overflow_x": null,
            "overflow_y": null,
            "padding": null,
            "right": null,
            "top": null,
            "visibility": null,
            "width": "400px"
          }
        },
        "8cf3fcd5e7ba467ba434828e97b6a264": {
          "model_module": "@jupyter-widgets/controls",
          "model_name": "DescriptionStyleModel",
          "model_module_version": "1.5.0",
          "state": {
            "_model_module": "@jupyter-widgets/controls",
            "_model_module_version": "1.5.0",
            "_model_name": "DescriptionStyleModel",
            "_view_count": null,
            "_view_module": "@jupyter-widgets/base",
            "_view_module_version": "1.2.0",
            "_view_name": "StyleView",
            "description_width": ""
          }
        },
        "c3f33cd489494ec98d758595e097be7b": {
          "model_module": "@jupyter-widgets/base",
          "model_name": "LayoutModel",
          "model_module_version": "1.2.0",
          "state": {
            "_model_module": "@jupyter-widgets/base",
            "_model_module_version": "1.2.0",
            "_model_name": "LayoutModel",
            "_view_count": null,
            "_view_module": "@jupyter-widgets/base",
            "_view_module_version": "1.2.0",
            "_view_name": "LayoutView",
            "align_content": null,
            "align_items": null,
            "align_self": null,
            "border": null,
            "bottom": null,
            "display": null,
            "flex": null,
            "flex_flow": null,
            "grid_area": null,
            "grid_auto_columns": null,
            "grid_auto_flow": null,
            "grid_auto_rows": null,
            "grid_column": null,
            "grid_gap": null,
            "grid_row": null,
            "grid_template_areas": null,
            "grid_template_columns": null,
            "grid_template_rows": null,
            "height": null,
            "justify_content": null,
            "justify_items": null,
            "left": null,
            "margin": null,
            "max_height": null,
            "max_width": null,
            "min_height": null,
            "min_width": null,
            "object_fit": null,
            "object_position": null,
            "order": null,
            "overflow": null,
            "overflow_x": null,
            "overflow_y": null,
            "padding": null,
            "right": null,
            "top": null,
            "visibility": null,
            "width": "400px"
          }
        },
        "47c74d68f5ec485fb23ec9afbab8547f": {
          "model_module": "@jupyter-widgets/controls",
          "model_name": "DescriptionStyleModel",
          "model_module_version": "1.5.0",
          "state": {
            "_model_module": "@jupyter-widgets/controls",
            "_model_module_version": "1.5.0",
            "_model_name": "DescriptionStyleModel",
            "_view_count": null,
            "_view_module": "@jupyter-widgets/base",
            "_view_module_version": "1.2.0",
            "_view_name": "StyleView",
            "description_width": ""
          }
        },
        "5f4c392ad31c4df1bd7e0abd923a9747": {
          "model_module": "@jupyter-widgets/base",
          "model_name": "LayoutModel",
          "model_module_version": "1.2.0",
          "state": {
            "_model_module": "@jupyter-widgets/base",
            "_model_module_version": "1.2.0",
            "_model_name": "LayoutModel",
            "_view_count": null,
            "_view_module": "@jupyter-widgets/base",
            "_view_module_version": "1.2.0",
            "_view_name": "LayoutView",
            "align_content": null,
            "align_items": null,
            "align_self": null,
            "border": null,
            "bottom": null,
            "display": null,
            "flex": null,
            "flex_flow": null,
            "grid_area": null,
            "grid_auto_columns": null,
            "grid_auto_flow": null,
            "grid_auto_rows": null,
            "grid_column": null,
            "grid_gap": null,
            "grid_row": null,
            "grid_template_areas": null,
            "grid_template_columns": null,
            "grid_template_rows": null,
            "height": null,
            "justify_content": null,
            "justify_items": null,
            "left": null,
            "margin": null,
            "max_height": null,
            "max_width": null,
            "min_height": null,
            "min_width": null,
            "object_fit": null,
            "object_position": null,
            "order": null,
            "overflow": null,
            "overflow_x": null,
            "overflow_y": null,
            "padding": null,
            "right": null,
            "top": null,
            "visibility": null,
            "width": "400px"
          }
        },
        "e784fb93017b4af18f8f867257526d6a": {
          "model_module": "@jupyter-widgets/controls",
          "model_name": "ButtonStyleModel",
          "model_module_version": "1.5.0",
          "state": {
            "_model_module": "@jupyter-widgets/controls",
            "_model_module_version": "1.5.0",
            "_model_name": "ButtonStyleModel",
            "_view_count": null,
            "_view_module": "@jupyter-widgets/base",
            "_view_module_version": "1.2.0",
            "_view_name": "StyleView",
            "button_color": null,
            "font_weight": ""
          }
        },
        "49c54dc4a8a94fb09f1b26b618307779": {
          "model_module": "@jupyter-widgets/base",
          "model_name": "LayoutModel",
          "model_module_version": "1.2.0",
          "state": {
            "_model_module": "@jupyter-widgets/base",
            "_model_module_version": "1.2.0",
            "_model_name": "LayoutModel",
            "_view_count": null,
            "_view_module": "@jupyter-widgets/base",
            "_view_module_version": "1.2.0",
            "_view_name": "LayoutView",
            "align_content": null,
            "align_items": null,
            "align_self": null,
            "border": null,
            "bottom": null,
            "display": null,
            "flex": null,
            "flex_flow": null,
            "grid_area": null,
            "grid_auto_columns": null,
            "grid_auto_flow": null,
            "grid_auto_rows": null,
            "grid_column": null,
            "grid_gap": null,
            "grid_row": null,
            "grid_template_areas": null,
            "grid_template_columns": null,
            "grid_template_rows": null,
            "height": null,
            "justify_content": null,
            "justify_items": null,
            "left": null,
            "margin": null,
            "max_height": null,
            "max_width": null,
            "min_height": null,
            "min_width": null,
            "object_fit": null,
            "object_position": null,
            "order": null,
            "overflow": null,
            "overflow_x": null,
            "overflow_y": null,
            "padding": null,
            "right": null,
            "top": null,
            "visibility": null,
            "width": null
          }
        }
      }
    }
  },
  "cells": [
    {
      "cell_type": "markdown",
      "source": [
        "Step 1: Install required packages"
      ],
      "metadata": {
        "id": "pmqDc2m9G51t"
      }
    },
    {
      "cell_type": "code",
      "source": [
        "!pip install google-generativeai --quiet\n",
        "!pip install ipywidgets --quiet"
      ],
      "metadata": {
        "id": "N9z26bisnFcm"
      },
      "execution_count": 2,
      "outputs": []
    },
    {
      "cell_type": "markdown",
      "source": [
        "Step 2: Import libraries"
      ],
      "metadata": {
        "id": "xF6xdxMRG_nv"
      }
    },
    {
      "cell_type": "code",
      "source": [
        "import google.generativeai as genai\n",
        "import ipywidgets as widgets\n",
        "from IPython.display import display, Markdown"
      ],
      "metadata": {
        "id": "XXhuW4vkn6bj"
      },
      "execution_count": 7,
      "outputs": []
    },
    {
      "cell_type": "markdown",
      "source": [
        "Step 3: Set up Gemini API"
      ],
      "metadata": {
        "id": "O_ASCfqbHCCx"
      }
    },
    {
      "cell_type": "code",
      "source": [
        "API_KEY = YOUR_SECRET_KEY",
        "genai.configure(api_key=API_KEY)\n",
        "model = genai.GenerativeModel(\"gemini-2.5-flash\")"
      ],
      "metadata": {
        "id": "Dax9iXFzomWy"
      },
      "execution_count": 8,
      "outputs": []
    },
    {
      "cell_type": "markdown",
      "source": [
        "Step 4: Define the input form"
      ],
      "metadata": {
        "id": "6U4nkTanHF0M"
      }
    },
    {
      "cell_type": "code",
      "source": [
        "topic_input = widgets.Text(\n",
        "    description='Topic',\n",
        "    layout = widgets.Layout(width='400px')\n",
        ")\n",
        "tone_input = widgets.Dropdown(\n",
        "    description='Tone',\n",
        "    options = ['Professional','Casual','Motivational','Informative'],\n",
        "    layout = widgets.Layout(width='400px')\n",
        ")\n",
        "audience_input = widgets.Text(\n",
        "    description='Audience',\n",
        "    layout = widgets.Layout(width='400px')\n",
        ")\n",
        "hashtag_input = widgets.Text(\n",
        "    description='Hashtags',\n",
        "    layout = widgets.Layout(width='400px')\n",
        ")\n",
        "submit_button = widgets.Button(\n",
        "    description='Generate Tweet',\n",
        "    button_style='Success',\n",
        "    tooltip = 'click to generate tweet',\n",
        "    layout = widgets.Layout(width='400px')\n",
        ")\n",
        "output = widgets.Output()"
      ],
      "metadata": {
        "id": "GgiFLVzLQAQv"
      },
      "execution_count": 9,
      "outputs": []
    },
    {
      "cell_type": "markdown",
      "source": [
        "Step 5: Generate Tweet Function"
      ],
      "metadata": {
        "id": "J4m4aGgSHIOm"
      }
    },
    {
      "cell_type": "code",
      "source": [
        "def generate_tweet(b):\n",
        "  output.clear_output()\n",
        "  prompt = f\"\"\"\n",
        "  You are an expert Content Writer\n",
        "  generate a tweet about the topic \"{topic_input.value}\".\n",
        "  use a tone {tone_input.value}.\n",
        "  generate tweet for audience {audience_input.value}.\n",
        "  Include the hashtags {hashtag_input.value}.\n",
        "  Keep it under 280 characters\n",
        "  \"\"\"\n",
        "  with output:\n",
        "    try:\n",
        "      response = model.generate_content(prompt)\n",
        "      tweet = response.text.strip()\n",
        "      display(Markdown(f\"### Generated Tweet: \\n\\n {tweet}\"))\n",
        "    except Exception as e:\n",
        "      print(\"Error\", e)\n",
        "\n",
        "submit_button.on_click(generate_tweet)"
      ],
      "metadata": {
        "id": "yhrvTz5_S5gY"
      },
      "execution_count": 10,
      "outputs": []
    },
    {
      "cell_type": "markdown",
      "source": [
        "Step 6: Display the form"
      ],
      "metadata": {
        "id": "pRaayOW-HSWY"
      }
    },
    {
      "cell_type": "code",
      "source": [
        "form = widgets.VBox([\n",
        "    widgets.HTML(value=\"<h3>📝 Tweet Generator Agent</h3>\"),\n",
        "    topic_input,\n",
        "    tone_input,\n",
        "    audience_input,\n",
        "    hashtag_input,\n",
        "    submit_button,\n",
        "    output\n",
        "])\n",
        "\n",
        "display(form)"
      ],
      "metadata": {
        "colab": {
          "base_uri": "https://localhost:8080/",
          "height": 329,
          "referenced_widgets": [
            "855ca3c21dfb49a2842f35a0df943140",
            "0a7a2763b07747659bab48564535d835",
            "c71606068be642a188a4b63d7a4be99b",
            "22c69d9543744793b600d7e21937127c",
            "743e937bd90548d8b2225fb8dc6c9776",
            "e6ca7bf2c68542c9923679b43824cb82",
            "f9f5f86e9bba45efb01f5a58a6c458fc",
            "7a2c7a92dd9145689adec82193c1cdc3",
            "90a4f4aa50fc44e7901407466b40f69a",
            "162966cfc5c2437d84cfc10b1c66edd7",
            "e2dd5f7daabb4cb0b38c822ebba47efc",
            "0d32dd5fa9c44f9ba462cec8d5e9301d",
            "e96e033f2e2a42f1a85f3051165d0ea5",
            "7fe0c3652b734131b1a8049416dfb574",
            "eb61996b60934b26b9a006081fe11d72",
            "2c9d24a59b66470d880be35bc01f297a",
            "8cf3fcd5e7ba467ba434828e97b6a264",
            "c3f33cd489494ec98d758595e097be7b",
            "47c74d68f5ec485fb23ec9afbab8547f",
            "5f4c392ad31c4df1bd7e0abd923a9747",
            "e784fb93017b4af18f8f867257526d6a",
            "49c54dc4a8a94fb09f1b26b618307779"
          ]
        },
        "id": "0KCSCCZsW0X7",
        "outputId": "36ad26d1-ce73-4a26-abbc-391d9d6bfb55"
      },
      "execution_count": 11,
      "outputs": [
        {
          "output_type": "display_data",
          "data": {
            "text/plain": [
              "VBox(children=(HTML(value='<h3>📝 Tweet Generator Agent</h3>'), Text(value='', description='Topic', layout=Layo…"
            ],
            "application/vnd.jupyter.widget-view+json": {
              "version_major": 2,
              "version_minor": 0,
              "model_id": "855ca3c21dfb49a2842f35a0df943140"
            }
          },
          "metadata": {}
        }
      ]
    }
  ]
}
